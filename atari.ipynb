{
  "cells": [
    {
      "cell_type": "markdown",
      "metadata": {
        "id": "view-in-github",
        "colab_type": "text"
      },
      "source": [
        "<a href=\"https://colab.research.google.com/github/SHermukhammadjon/Atari-Games/blob/main/atari.ipynb\" target=\"_parent\"><img src=\"https://colab.research.google.com/assets/colab-badge.svg\" alt=\"Open In Colab\"/></a>"
      ]
    },
    {
      "cell_type": "markdown",
      "metadata": {
        "id": "gO7l3fUpAz3G"
      },
      "source": [
        "# Atrai games\n"
      ]
    },
    {
      "cell_type": "markdown",
      "source": [
        "## 0. Installing and impr nessery librarys"
      ],
      "metadata": {
        "id": "MHw0_yJAjSpM"
      }
    },
    {
      "cell_type": "code",
      "execution_count": 3,
      "metadata": {
        "id": "84ZwS1u5Ayev"
      },
      "outputs": [],
      "source": [
        "# ! pip install stable-baselines3[extra]\n",
        "# ! pip install -q swig\n",
        "# ! pip install -q gymnasium[box2d]"
      ]
    },
    {
      "cell_type": "code",
      "source": [
        "!apt-get update && apt-get install swig cmake"
      ],
      "metadata": {
        "id": "Ns-J6t8DBlX8"
      },
      "execution_count": 68,
      "outputs": []
    },
    {
      "cell_type": "code",
      "execution_count": 1,
      "metadata": {
        "id": "4ALrVKAtAHnO",
        "colab": {
          "base_uri": "https://localhost:8080/"
        },
        "outputId": "ee9847aa-4d71-48df-f52a-b1a9f336fd0f"
      },
      "outputs": [
        {
          "output_type": "stream",
          "name": "stderr",
          "text": [
            "/usr/local/lib/python3.10/dist-packages/torch/utils/tensorboard/__init__.py:4: DeprecationWarning: distutils Version classes are deprecated. Use packaging.version instead.\n",
            "  if not hasattr(tensorboard, \"__version__\") or LooseVersion(\n"
          ]
        }
      ],
      "source": [
        "import gymnasium as gym\n",
        "from collections import defaultdict\n",
        "\n",
        "import matplotlib.pyplot  as plt\n",
        "import matplotlib.patches as patch\n",
        "import seaborn as sns\n",
        "import cv2\n",
        "\n",
        "import numpy as np\n",
        "import random\n",
        "\n",
        "from stable_baselines3 import PPO, DQN\n",
        "from stable_baselines3.common.evaluation import evaluate_policy\n",
        "from stable_baselines3.common.vec_env import DummyVecEnv"
      ]
    },
    {
      "cell_type": "code",
      "source": [
        "import warnings\n",
        "warnings.filterwarnings(\"ignore\", category=DeprecationWarning)"
      ],
      "metadata": {
        "id": "6p_FjQGRutV8"
      },
      "execution_count": 19,
      "outputs": []
    },
    {
      "cell_type": "markdown",
      "source": [
        "## 2. CartPole-v1"
      ],
      "metadata": {
        "id": "eg5p_xE2jhev"
      }
    },
    {
      "cell_type": "code",
      "source": [],
      "metadata": {
        "id": "satc9ZqUll7N"
      },
      "execution_count": null,
      "outputs": []
    },
    {
      "cell_type": "markdown",
      "source": [
        "### 2.1 testing envorment"
      ],
      "metadata": {
        "id": "CK84Sdjwsf_P"
      }
    },
    {
      "cell_type": "code",
      "execution_count": 8,
      "metadata": {
        "colab": {
          "base_uri": "https://localhost:8080/"
        },
        "id": "2TKkNBpRArps",
        "outputId": "914c86a3-42ec-4bb7-d068-c6daf9a4b088"
      },
      "outputs": [
        {
          "output_type": "stream",
          "name": "stdout",
          "text": [
            "Episode 1 score: 30.0\n",
            "Episode 2 score: 13.0\n",
            "Episode 3 score: 22.0\n",
            "Episode 4 score: 14.0\n",
            "Episode 5 score: 27.0\n",
            "Episode 6 score: 16.0\n",
            "Episode 7 score: 34.0\n",
            "Episode 8 score: 14.0\n",
            "Episode 9 score: 12.0\n",
            "Episode 10 score: 16.0\n"
          ]
        }
      ],
      "source": [
        "env = gym.make('CartPole-v1', render_mode = 'rgb_array')\n",
        "\n",
        "env.reset()\n",
        "\n",
        "# Define video writer\n",
        "width, height = 600, 400\n",
        "fourcc = cv2.VideoWriter_fourcc(*\"mp4v\")\n",
        "video_writer = cv2.VideoWriter(\"test.mp4\", fourcc, 30.0, (width, height))\n",
        "\n",
        "\n",
        "episodes = 10\n",
        "for episode in range(1, episodes+1):\n",
        "    observation = env.reset()\n",
        "    done = False\n",
        "    score = 0\n",
        "\n",
        "    while not done:\n",
        "        action = random.choice([0, 1])\n",
        "        observation, reward, done, info, _ = env.step(action)\n",
        "        score += reward\n",
        "\n",
        "        # Recording envorment\n",
        "        frame = env.render()\n",
        "        frame = cv2.cvtColor(frame, cv2.COLOR_RGB2BGR)\n",
        "        frame = cv2.resize(frame, (width, height))\n",
        "\n",
        "        # Write frame to video\n",
        "        video_writer.write(frame)\n",
        "\n",
        "    print(f\"Episode {episode} score: {score}\")\n",
        "\n",
        "video_writer.release()\n",
        "env.close()\n",
        "cv2.destroyAllWindows()"
      ]
    },
    {
      "cell_type": "markdown",
      "source": [
        "### 2.2 Treining the model"
      ],
      "metadata": {
        "id": "ddv-mO5PtJGu"
      }
    },
    {
      "cell_type": "code",
      "execution_count": 9,
      "metadata": {
        "id": "RMWUvOAlE2ED",
        "colab": {
          "base_uri": "https://localhost:8080/"
        },
        "outputId": "d7afca5b-5278-4d04-d608-b18e6d4dc5f2"
      },
      "outputs": [
        {
          "output_type": "stream",
          "name": "stdout",
          "text": [
            "Using cpu device\n"
          ]
        }
      ],
      "source": [
        "env = gym.make('CartPole-v1', render_mode = 'rgb_array')\n",
        "env = DummyVecEnv([lambda : env])\n",
        "\n",
        "model = PPO('MlpPolicy', env, verbose = 1, tensorboard_log = 'training/logs')"
      ]
    },
    {
      "cell_type": "code",
      "source": [
        "model.learn(total_timesteps = 50_000, log_interval = 5)"
      ],
      "metadata": {
        "colab": {
          "base_uri": "https://localhost:8080/"
        },
        "id": "4J34sfllqpGY",
        "outputId": "fa837fbf-5fb5-4030-fd6c-a4cc604f0541"
      },
      "execution_count": 22,
      "outputs": [
        {
          "output_type": "stream",
          "name": "stdout",
          "text": [
            "Logging to training/logs/PPO_4\n",
            "------------------------------------------\n",
            "| time/                   |              |\n",
            "|    fps                  | 692          |\n",
            "|    iterations           | 10           |\n",
            "|    time_elapsed         | 29           |\n",
            "|    total_timesteps      | 20480        |\n",
            "| train/                  |              |\n",
            "|    approx_kl            | 0.0043079434 |\n",
            "|    clip_fraction        | 0.0145       |\n",
            "|    clip_range           | 0.2          |\n",
            "|    entropy_loss         | -0.438       |\n",
            "|    explained_variance   | 0.031        |\n",
            "|    learning_rate        | 0.0003       |\n",
            "|    loss                 | 0.0119       |\n",
            "|    n_updates            | 190          |\n",
            "|    policy_gradient_loss | 0.000202     |\n",
            "|    value_loss           | 0.2          |\n",
            "------------------------------------------\n",
            "------------------------------------------\n",
            "| time/                   |              |\n",
            "|    fps                  | 676          |\n",
            "|    iterations           | 20           |\n",
            "|    time_elapsed         | 60           |\n",
            "|    total_timesteps      | 40960        |\n",
            "| train/                  |              |\n",
            "|    approx_kl            | 0.0015507321 |\n",
            "|    clip_fraction        | 0.0119       |\n",
            "|    clip_range           | 0.2          |\n",
            "|    entropy_loss         | -0.411       |\n",
            "|    explained_variance   | 0.0636       |\n",
            "|    learning_rate        | 0.0003       |\n",
            "|    loss                 | 0.0105       |\n",
            "|    n_updates            | 290          |\n",
            "|    policy_gradient_loss | -0.00104     |\n",
            "|    value_loss           | 0.00251      |\n",
            "------------------------------------------\n"
          ]
        },
        {
          "output_type": "execute_result",
          "data": {
            "text/plain": [
              "<stable_baselines3.ppo.ppo.PPO at 0x7a28c1e9efe0>"
            ]
          },
          "metadata": {},
          "execution_count": 22
        }
      ]
    },
    {
      "cell_type": "markdown",
      "source": [
        "### 2.3 Save and reoloding the model"
      ],
      "metadata": {
        "id": "XN4IOo6Otc_P"
      }
    },
    {
      "cell_type": "code",
      "source": [
        "model.save('training/saved_models/OPP_cartpole')"
      ],
      "metadata": {
        "id": "bDxNVqtuqpfi"
      },
      "execution_count": 12,
      "outputs": []
    },
    {
      "cell_type": "code",
      "source": [
        "del model"
      ],
      "metadata": {
        "id": "tOC9iRe2sg-J"
      },
      "execution_count": 13,
      "outputs": []
    },
    {
      "cell_type": "code",
      "source": [
        "model = PPO.load('training/saved_models/OPP_cartpole', env = env)"
      ],
      "metadata": {
        "id": "fGo5E_uXshKy",
        "colab": {
          "base_uri": "https://localhost:8080/"
        },
        "outputId": "49ef50cc-99fa-48cc-b6f7-a88917c65bbf"
      },
      "execution_count": 20,
      "outputs": [
        {
          "output_type": "stream",
          "name": "stderr",
          "text": [
            "/usr/local/lib/python3.10/dist-packages/stable_baselines3/common/evaluation.py:67: UserWarning: Evaluation environment is not wrapped with a ``Monitor`` wrapper. This may result in reporting modified episode lengths and rewards, if other wrappers happen to modify these. Consider wrapping environment first with ``Monitor`` wrapper.\n",
            "  warnings.warn(\n"
          ]
        },
        {
          "output_type": "execute_result",
          "data": {
            "text/plain": [
              "(475.8, 72.60000000000001)"
            ]
          },
          "metadata": {},
          "execution_count": 20
        }
      ]
    },
    {
      "cell_type": "code",
      "source": [],
      "metadata": {
        "id": "IcHDD56awTIC"
      },
      "execution_count": null,
      "outputs": []
    },
    {
      "cell_type": "markdown",
      "source": [
        "### 2.4 Evaluet the model"
      ],
      "metadata": {
        "id": "27Mc46iowUu_"
      }
    },
    {
      "cell_type": "code",
      "source": [
        "evaluate_policy(model, env, n_eval_episodes = 10)"
      ],
      "metadata": {
        "id": "6BvgIYcrwTQ3"
      },
      "execution_count": null,
      "outputs": []
    },
    {
      "cell_type": "code",
      "source": [
        "env.close()"
      ],
      "metadata": {
        "id": "7N1vTm4AtD1e"
      },
      "execution_count": null,
      "outputs": []
    },
    {
      "cell_type": "code",
      "source": [],
      "metadata": {
        "id": "G-jGRIg0tEDt"
      },
      "execution_count": null,
      "outputs": []
    },
    {
      "cell_type": "markdown",
      "source": [
        "### 2.5 Tesintg the model"
      ],
      "metadata": {
        "id": "C6bJ5xHewcjk"
      }
    },
    {
      "cell_type": "code",
      "execution_count": 25,
      "metadata": {
        "colab": {
          "base_uri": "https://localhost:8080/"
        },
        "id": "3nzDUkowuj9x",
        "outputId": "e6d2e135-79c5-4a4c-f5f6-a8741912f5e5"
      },
      "outputs": [
        {
          "output_type": "stream",
          "name": "stdout",
          "text": [
            "Episode 1 score: [500.]\n",
            "Episode 2 score: [500.]\n",
            "Episode 3 score: [500.]\n",
            "Episode 4 score: [500.]\n",
            "Episode 5 score: [500.]\n",
            "Episode 6 score: [500.]\n",
            "Episode 7 score: [500.]\n",
            "Episode 8 score: [500.]\n",
            "Episode 9 score: [500.]\n",
            "Episode 10 score: [500.]\n"
          ]
        }
      ],
      "source": [
        "env = gym.make('CartPole-v1', render_mode = 'rgb_array')\n",
        "env = DummyVecEnv([lambda : env])\n",
        "\n",
        "# Define video writer\n",
        "width, height = 600, 400\n",
        "fourcc = cv2.VideoWriter_fourcc(*\"mp4v\")\n",
        "video_writer = cv2.VideoWriter(\"CartPole.mp4\", fourcc, 30.0, (width, height))\n",
        "\n",
        "\n",
        "episodes = 10\n",
        "\n",
        "for episode in range(1, episodes+1):\n",
        "    observation = env.reset()\n",
        "    done, score = False, 0\n",
        "\n",
        "    while not done:\n",
        "        action, _ = model.predict(observation)\n",
        "        step = env.step(action)\n",
        "\n",
        "        observation, reward, done, info = step[0], step[1], step[2], step[3]\n",
        "        score += reward\n",
        "\n",
        "        # Recording envorment\n",
        "        frame = env.render()\n",
        "        frame = cv2.cvtColor(frame, cv2.COLOR_RGB2BGR)\n",
        "        frame = cv2.resize(frame, (width, height))\n",
        "\n",
        "        # Write frame to video\n",
        "        video_writer.write(frame)\n",
        "\n",
        "\n",
        "    print(f\"Episode {episode} score: {score}\")\n",
        "\n",
        "video_writer.release()\n",
        "env.close()\n",
        "cv2.destroyAllWindows()"
      ]
    },
    {
      "cell_type": "markdown",
      "source": [
        "#3. Luna Lander"
      ],
      "metadata": {
        "id": "Ohj4cny12-w1"
      }
    },
    {
      "cell_type": "markdown",
      "source": [
        "### 3.1 creat envorment"
      ],
      "metadata": {
        "id": "k_Zv4YVYwkah"
      }
    },
    {
      "cell_type": "code",
      "execution_count": 64,
      "metadata": {
        "id": "a5scxKnkukGn"
      },
      "outputs": [],
      "source": [
        "env = gym.make('LunarLander-v2', render_mode = 'rgb_array')\n",
        "# env = DummyVecEnv([lambda : env])"
      ]
    },
    {
      "cell_type": "markdown",
      "source": [
        "### 3.2 Train meodel"
      ],
      "metadata": {
        "id": "LbXbPWBcwsYR"
      }
    },
    {
      "cell_type": "code",
      "source": [
        "model = DQN(\"MlpPolicy\", \"LunarLander-v2\", verbose=1, exploration_final_eps=0.1, target_update_interval=250)"
      ],
      "metadata": {
        "colab": {
          "base_uri": "https://localhost:8080/"
        },
        "id": "s5CU_TL_wrVS",
        "outputId": "2d6b6fee-cc05-48b1-b166-fc4abdb868f2"
      },
      "execution_count": 65,
      "outputs": [
        {
          "output_type": "stream",
          "name": "stdout",
          "text": [
            "Using cpu device\n",
            "Creating environment from the given name 'LunarLander-v2'\n",
            "Wrapping the env with a `Monitor` wrapper\n",
            "Wrapping the env in a DummyVecEnv.\n"
          ]
        }
      ]
    },
    {
      "cell_type": "code",
      "source": [
        "model.learn(total_timesteps = 100_000, log_interval = 50)"
      ],
      "metadata": {
        "colab": {
          "base_uri": "https://localhost:8080/"
        },
        "id": "OM4IIjPM-1bT",
        "outputId": "6fede4b2-1b8c-4a9e-d646-c585dd72c871"
      },
      "execution_count": 66,
      "outputs": [
        {
          "output_type": "stream",
          "name": "stdout",
          "text": [
            "----------------------------------\n",
            "| rollout/            |          |\n",
            "|    ep_len_mean      | 94       |\n",
            "|    ep_rew_mean      | -156     |\n",
            "|    exploration_rate | 0.577    |\n",
            "| time/               |          |\n",
            "|    episodes         | 50       |\n",
            "|    fps              | 3148     |\n",
            "|    time_elapsed     | 1        |\n",
            "|    total_timesteps  | 4701     |\n",
            "----------------------------------\n",
            "----------------------------------\n",
            "| rollout/            |          |\n",
            "|    ep_len_mean      | 92.4     |\n",
            "|    ep_rew_mean      | -163     |\n",
            "|    exploration_rate | 0.168    |\n",
            "| time/               |          |\n",
            "|    episodes         | 100      |\n",
            "|    fps              | 3169     |\n",
            "|    time_elapsed     | 2        |\n",
            "|    total_timesteps  | 9243     |\n",
            "----------------------------------\n",
            "----------------------------------\n",
            "| rollout/            |          |\n",
            "|    ep_len_mean      | 90.4     |\n",
            "|    ep_rew_mean      | -189     |\n",
            "|    exploration_rate | 0.1      |\n",
            "| time/               |          |\n",
            "|    episodes         | 150      |\n",
            "|    fps              | 3210     |\n",
            "|    time_elapsed     | 4        |\n",
            "|    total_timesteps  | 13744    |\n",
            "----------------------------------\n",
            "----------------------------------\n",
            "| rollout/            |          |\n",
            "|    ep_len_mean      | 88.6     |\n",
            "|    ep_rew_mean      | -194     |\n",
            "|    exploration_rate | 0.1      |\n",
            "| time/               |          |\n",
            "|    episodes         | 200      |\n",
            "|    fps              | 3230     |\n",
            "|    time_elapsed     | 5        |\n",
            "|    total_timesteps  | 18103    |\n",
            "----------------------------------\n",
            "----------------------------------\n",
            "| rollout/            |          |\n",
            "|    ep_len_mean      | 88.1     |\n",
            "|    ep_rew_mean      | -183     |\n",
            "|    exploration_rate | 0.1      |\n",
            "| time/               |          |\n",
            "|    episodes         | 250      |\n",
            "|    fps              | 3231     |\n",
            "|    time_elapsed     | 6        |\n",
            "|    total_timesteps  | 22551    |\n",
            "----------------------------------\n",
            "----------------------------------\n",
            "| rollout/            |          |\n",
            "|    ep_len_mean      | 88.8     |\n",
            "|    ep_rew_mean      | -181     |\n",
            "|    exploration_rate | 0.1      |\n",
            "| time/               |          |\n",
            "|    episodes         | 300      |\n",
            "|    fps              | 3003     |\n",
            "|    time_elapsed     | 8        |\n",
            "|    total_timesteps  | 26987    |\n",
            "----------------------------------\n",
            "----------------------------------\n",
            "| rollout/            |          |\n",
            "|    ep_len_mean      | 90.2     |\n",
            "|    ep_rew_mean      | -182     |\n",
            "|    exploration_rate | 0.1      |\n",
            "| time/               |          |\n",
            "|    episodes         | 350      |\n",
            "|    fps              | 2924     |\n",
            "|    time_elapsed     | 10       |\n",
            "|    total_timesteps  | 31567    |\n",
            "----------------------------------\n",
            "----------------------------------\n",
            "| rollout/            |          |\n",
            "|    ep_len_mean      | 92.2     |\n",
            "|    ep_rew_mean      | -191     |\n",
            "|    exploration_rate | 0.1      |\n",
            "| time/               |          |\n",
            "|    episodes         | 400      |\n",
            "|    fps              | 2964     |\n",
            "|    time_elapsed     | 12       |\n",
            "|    total_timesteps  | 36208    |\n",
            "----------------------------------\n",
            "----------------------------------\n",
            "| rollout/            |          |\n",
            "|    ep_len_mean      | 90       |\n",
            "|    ep_rew_mean      | -195     |\n",
            "|    exploration_rate | 0.1      |\n",
            "| time/               |          |\n",
            "|    episodes         | 450      |\n",
            "|    fps              | 2998     |\n",
            "|    time_elapsed     | 13       |\n",
            "|    total_timesteps  | 40566    |\n",
            "----------------------------------\n",
            "----------------------------------\n",
            "| rollout/            |          |\n",
            "|    ep_len_mean      | 90       |\n",
            "|    ep_rew_mean      | -196     |\n",
            "|    exploration_rate | 0.1      |\n",
            "| time/               |          |\n",
            "|    episodes         | 500      |\n",
            "|    fps              | 3021     |\n",
            "|    time_elapsed     | 14       |\n",
            "|    total_timesteps  | 45209    |\n",
            "----------------------------------\n",
            "----------------------------------\n",
            "| rollout/            |          |\n",
            "|    ep_len_mean      | 92.8     |\n",
            "|    ep_rew_mean      | -189     |\n",
            "|    exploration_rate | 0.1      |\n",
            "| time/               |          |\n",
            "|    episodes         | 550      |\n",
            "|    fps              | 3044     |\n",
            "|    time_elapsed     | 16       |\n",
            "|    total_timesteps  | 49846    |\n",
            "----------------------------------\n",
            "----------------------------------\n",
            "| rollout/            |          |\n",
            "|    ep_len_mean      | 279      |\n",
            "|    ep_rew_mean      | -309     |\n",
            "|    exploration_rate | 0.1      |\n",
            "| time/               |          |\n",
            "|    episodes         | 600      |\n",
            "|    fps              | 876      |\n",
            "|    time_elapsed     | 83       |\n",
            "|    total_timesteps  | 73088    |\n",
            "| train/              |          |\n",
            "|    learning_rate    | 0.0001   |\n",
            "|    loss             | 3.32     |\n",
            "|    n_updates        | 5771     |\n",
            "----------------------------------\n"
          ]
        },
        {
          "output_type": "execute_result",
          "data": {
            "text/plain": [
              "<stable_baselines3.dqn.dqn.DQN at 0x7a28be1dc910>"
            ]
          },
          "metadata": {},
          "execution_count": 66
        }
      ]
    },
    {
      "cell_type": "markdown",
      "source": [
        "### 3.3 Save and reolad the model"
      ],
      "metadata": {
        "id": "jozzFPFMw0eF"
      }
    },
    {
      "cell_type": "code",
      "source": [
        "model.save('training/saved_models/OPP_luna_lander')"
      ],
      "metadata": {
        "id": "k14hU-p5wJo4"
      },
      "execution_count": 29,
      "outputs": []
    },
    {
      "cell_type": "code",
      "source": [
        "del model"
      ],
      "metadata": {
        "id": "S2mwL-YuxJPJ"
      },
      "execution_count": 30,
      "outputs": []
    },
    {
      "cell_type": "code",
      "source": [
        "model = PPO.load('training/saved_models/OPP_luna_lander')"
      ],
      "metadata": {
        "id": "RC4HWMpvwJzB"
      },
      "execution_count": 31,
      "outputs": []
    },
    {
      "cell_type": "code",
      "source": [
        "mean_reward, std_reward = evaluate_policy(model, env, n_eval_episodes=10, deterministic=True)\n",
        "\n",
        "print(f\"mean_reward={mean_reward:.2f} +/- {std_reward}\")"
      ],
      "metadata": {
        "colab": {
          "base_uri": "https://localhost:8080/"
        },
        "id": "mo-chUXK12qP",
        "outputId": "57490074-b36d-4acc-916f-418ca32476f3"
      },
      "execution_count": 67,
      "outputs": [
        {
          "output_type": "stream",
          "name": "stderr",
          "text": [
            "/usr/local/lib/python3.10/dist-packages/stable_baselines3/common/evaluation.py:67: UserWarning: Evaluation environment is not wrapped with a ``Monitor`` wrapper. This may result in reporting modified episode lengths and rewards, if other wrappers happen to modify these. Consider wrapping environment first with ``Monitor`` wrapper.\n",
            "  warnings.warn(\n"
          ]
        },
        {
          "output_type": "stream",
          "name": "stdout",
          "text": [
            "mean_reward=212.41 +/- 27.174502007331196\n"
          ]
        }
      ]
    },
    {
      "cell_type": "code",
      "source": [],
      "metadata": {
        "id": "LkksZmn912xw"
      },
      "execution_count": null,
      "outputs": []
    },
    {
      "cell_type": "code",
      "source": [],
      "metadata": {
        "id": "vZcpZRag-1vH"
      },
      "execution_count": 46,
      "outputs": []
    },
    {
      "cell_type": "code",
      "execution_count": 68,
      "metadata": {
        "id": "5oWCyyhbukJf",
        "colab": {
          "base_uri": "https://localhost:8080/"
        },
        "outputId": "2aea04f3-a169-413e-b901-0639bd0bb3aa"
      },
      "outputs": [
        {
          "output_type": "stream",
          "name": "stdout",
          "text": [
            "Episode 1 score: [229.35014]\n",
            "Episode 2 score: [232.67824]\n",
            "Episode 3 score: [230.20485]\n",
            "Episode 4 score: [-12.999191]\n",
            "Episode 5 score: [235.48586]\n",
            "Episode 6 score: [197.60553]\n",
            "Episode 7 score: [217.06616]\n",
            "Episode 8 score: [231.87965]\n",
            "Episode 9 score: [206.14624]\n",
            "Episode 10 score: [193.20544]\n"
          ]
        }
      ],
      "source": [
        "env = gym.make('LunarLander-v2', render_mode = 'rgb_array')\n",
        "env = DummyVecEnv([lambda : env])\n",
        "\n",
        "# Define video writer\n",
        "width, height = 600, 400\n",
        "fourcc = cv2.VideoWriter_fourcc(*\"mp4v\")\n",
        "video_writer = cv2.VideoWriter(\"Luna Lander.mp4\", fourcc, 30.0, (width, height))\n",
        "\n",
        "\n",
        "episodes = 10\n",
        "\n",
        "for episode in range(1, episodes+1):\n",
        "    observation = env.reset()\n",
        "    done, score = False, 0\n",
        "\n",
        "    while not done:\n",
        "        action, _ = model.predict(observation)\n",
        "        step = env.step(action)\n",
        "\n",
        "        observation, reward, done, info = step[0], step[1], step[2], step[3]\n",
        "        score += reward\n",
        "\n",
        "        # Recording envorment\n",
        "        frame = env.render()\n",
        "        frame = cv2.cvtColor(frame, cv2.COLOR_RGB2BGR)\n",
        "        frame = cv2.resize(frame, (width, height))\n",
        "\n",
        "        # Write frame to video\n",
        "        video_writer.write(frame)\n",
        "\n",
        "\n",
        "    print(f\"Episode {episode} score: {score}\")\n",
        "\n",
        "video_writer.release()\n",
        "env.close()\n",
        "cv2.destroyAllWindows()"
      ]
    },
    {
      "cell_type": "code",
      "source": [],
      "metadata": {
        "id": "b7AE6bL0hXTe"
      },
      "execution_count": null,
      "outputs": []
    },
    {
      "cell_type": "markdown",
      "source": [
        "# 3. BattleZone"
      ],
      "metadata": {
        "id": "XIXF7XgI2KXQ"
      }
    },
    {
      "cell_type": "code",
      "source": [],
      "metadata": {
        "id": "NRYi6F6m2JUS"
      },
      "execution_count": null,
      "outputs": []
    },
    {
      "cell_type": "code",
      "source": [
        "env = gym.make('ALE/BattleZone-v5', render_mode = 'rgb_array')"
      ],
      "metadata": {
        "id": "3uTfVRXn2Jaa"
      },
      "execution_count": 69,
      "outputs": []
    },
    {
      "cell_type": "code",
      "source": [
        "model = DQN(\"MlpPolicy\", 'ALE/BattleZone-v5', verbose=1, exploration_final_eps=0.1, target_update_interval=250)"
      ],
      "metadata": {
        "id": "UOt6WTgB2Jgh",
        "colab": {
          "base_uri": "https://localhost:8080/"
        },
        "outputId": "741553aa-e1f1-4304-c9b5-ffd765e49cf3"
      },
      "execution_count": 74,
      "outputs": [
        {
          "output_type": "stream",
          "name": "stdout",
          "text": [
            "Using cpu device\n",
            "Creating environment from the given name 'ALE/BattleZone-v5'\n",
            "Wrapping the env with a `Monitor` wrapper\n",
            "Wrapping the env in a DummyVecEnv.\n",
            "Wrapping the env in a VecTransposeImage.\n"
          ]
        },
        {
          "output_type": "stream",
          "name": "stderr",
          "text": [
            "/usr/local/lib/python3.10/dist-packages/stable_baselines3/common/buffers.py:231: UserWarning: This system does not have apparently enough memory to store the complete replay buffer 201.62GB > 7.51GB\n",
            "  warnings.warn(\n"
          ]
        }
      ]
    },
    {
      "cell_type": "code",
      "source": [
        "model.learn(total_timesteps = 100_000)"
      ],
      "metadata": {
        "id": "XatDk1usE8Kx",
        "outputId": "105dfe53-fbb5-425c-ae75-ec698d90a41f",
        "colab": {
          "base_uri": "https://localhost:8080/"
        }
      },
      "execution_count": null,
      "outputs": [
        {
          "output_type": "stream",
          "name": "stdout",
          "text": [
            "----------------------------------\n",
            "| rollout/            |          |\n",
            "|    ep_len_mean      | 1.1e+03  |\n",
            "|    ep_rew_mean      | 2e+03    |\n",
            "|    exploration_rate | 0.606    |\n",
            "| time/               |          |\n",
            "|    episodes         | 4        |\n",
            "|    fps              | 684      |\n",
            "|    time_elapsed     | 6        |\n",
            "|    total_timesteps  | 4383     |\n",
            "----------------------------------\n",
            "----------------------------------\n",
            "| rollout/            |          |\n",
            "|    ep_len_mean      | 1.1e+03  |\n",
            "|    ep_rew_mean      | 2e+03    |\n",
            "|    exploration_rate | 0.206    |\n",
            "| time/               |          |\n",
            "|    episodes         | 8        |\n",
            "|    fps              | 673      |\n",
            "|    time_elapsed     | 13       |\n",
            "|    total_timesteps  | 8826     |\n",
            "----------------------------------\n",
            "----------------------------------\n",
            "| rollout/            |          |\n",
            "|    ep_len_mean      | 1.12e+03 |\n",
            "|    ep_rew_mean      | 2.33e+03 |\n",
            "|    exploration_rate | 0.1      |\n",
            "| time/               |          |\n",
            "|    episodes         | 12       |\n",
            "|    fps              | 677      |\n",
            "|    time_elapsed     | 19       |\n",
            "|    total_timesteps  | 13484    |\n",
            "----------------------------------\n",
            "----------------------------------\n",
            "| rollout/            |          |\n",
            "|    ep_len_mean      | 1.16e+03 |\n",
            "|    ep_rew_mean      | 2.31e+03 |\n",
            "|    exploration_rate | 0.1      |\n",
            "| time/               |          |\n",
            "|    episodes         | 16       |\n",
            "|    fps              | 624      |\n",
            "|    time_elapsed     | 29       |\n",
            "|    total_timesteps  | 18485    |\n",
            "----------------------------------\n",
            "----------------------------------\n",
            "| rollout/            |          |\n",
            "|    ep_len_mean      | 1.15e+03 |\n",
            "|    ep_rew_mean      | 2.6e+03  |\n",
            "|    exploration_rate | 0.1      |\n",
            "| time/               |          |\n",
            "|    episodes         | 20       |\n",
            "|    fps              | 636      |\n",
            "|    time_elapsed     | 36       |\n",
            "|    total_timesteps  | 23049    |\n",
            "----------------------------------\n",
            "----------------------------------\n",
            "| rollout/            |          |\n",
            "|    ep_len_mean      | 1.14e+03 |\n",
            "|    ep_rew_mean      | 2.33e+03 |\n",
            "|    exploration_rate | 0.1      |\n",
            "| time/               |          |\n",
            "|    episodes         | 24       |\n",
            "|    fps              | 617      |\n",
            "|    time_elapsed     | 44       |\n",
            "|    total_timesteps  | 27280    |\n",
            "----------------------------------\n",
            "----------------------------------\n",
            "| rollout/            |          |\n",
            "|    ep_len_mean      | 1.16e+03 |\n",
            "|    ep_rew_mean      | 2.79e+03 |\n",
            "|    exploration_rate | 0.1      |\n",
            "| time/               |          |\n",
            "|    episodes         | 28       |\n",
            "|    fps              | 623      |\n",
            "|    time_elapsed     | 52       |\n",
            "|    total_timesteps  | 32432    |\n",
            "----------------------------------\n"
          ]
        }
      ]
    },
    {
      "cell_type": "code",
      "source": [
        "mean_reward, std_reward = evaluate_policy(model, env, n_eval_episodes=10, deterministic=True)\n",
        "\n",
        "print(f\"mean_reward={mean_reward:.2f} +/- {std_reward}\")"
      ],
      "metadata": {
        "id": "wPQLy9fTGTdv",
        "outputId": "8b16cdec-550b-4606-ed2c-69d3b18dcdf9",
        "colab": {
          "base_uri": "https://localhost:8080/"
        }
      },
      "execution_count": 73,
      "outputs": [
        {
          "output_type": "stream",
          "name": "stderr",
          "text": [
            "/usr/local/lib/python3.10/dist-packages/stable_baselines3/common/evaluation.py:67: UserWarning: Evaluation environment is not wrapped with a ``Monitor`` wrapper. This may result in reporting modified episode lengths and rewards, if other wrappers happen to modify these. Consider wrapping environment first with ``Monitor`` wrapper.\n",
            "  warnings.warn(\n"
          ]
        },
        {
          "output_type": "stream",
          "name": "stdout",
          "text": [
            "mean_reward=0.00 +/- 0.0\n"
          ]
        }
      ]
    },
    {
      "cell_type": "code",
      "source": [],
      "metadata": {
        "id": "sHDj66VdGTwa"
      },
      "execution_count": null,
      "outputs": []
    },
    {
      "cell_type": "code",
      "source": [
        "env = gym.make('ALE/BattleZone-v5', render_mode = 'rgb_array')\n",
        "env = DummyVecEnv([lambda : env])\n",
        "\n",
        "# Define video writer\n",
        "width, height = 600, 400\n",
        "fourcc = cv2.VideoWriter_fourcc(*\"mp4v\")\n",
        "video_writer = cv2.VideoWriter(\"BattleZone.mp4\", fourcc, 30.0, (width, height))\n",
        "\n",
        "\n",
        "episodes = 10\n",
        "\n",
        "for episode in range(1, episodes+1):\n",
        "    observation = env.reset()\n",
        "    done, score = False, 0\n",
        "\n",
        "    while not done:\n",
        "        action, _ = model.predict(observation)\n",
        "        step = env.step(action)\n",
        "\n",
        "        observation, reward, done, info = step[0], step[1], step[2], step[3]\n",
        "        score += reward\n",
        "\n",
        "        # Recording envorment\n",
        "        frame = env.render()\n",
        "        frame = cv2.cvtColor(frame, cv2.COLOR_RGB2BGR)\n",
        "        frame = cv2.resize(frame, (width, height))\n",
        "\n",
        "        # Write frame to video\n",
        "        video_writer.write(frame)\n",
        "\n",
        "\n",
        "    print(f\"Episode {episode} score: {score}\")\n",
        "\n",
        "video_writer.release()\n",
        "env.close()\n",
        "cv2.destroyAllWindows()"
      ],
      "metadata": {
        "id": "rVLX-F0uE8Nn",
        "outputId": "23060885-fc78-49d5-b715-d1f840d3c6b0",
        "colab": {
          "base_uri": "https://localhost:8080/"
        }
      },
      "execution_count": 72,
      "outputs": [
        {
          "output_type": "stream",
          "name": "stderr",
          "text": [
            "/usr/local/lib/python3.10/dist-packages/gymnasium/utils/passive_env_checker.py:335: UserWarning: \u001b[33mWARN: No render fps was declared in the environment (env.metadata['render_fps'] is None or not defined), rendering may occur at inconsistent fps.\u001b[0m\n",
            "  logger.warn(\n"
          ]
        },
        {
          "output_type": "stream",
          "name": "stdout",
          "text": [
            "Episode 1 score: [0.]\n",
            "Episode 2 score: [0.]\n",
            "Episode 3 score: [5000.]\n",
            "Episode 4 score: [0.]\n",
            "Episode 5 score: [0.]\n",
            "Episode 6 score: [0.]\n",
            "Episode 7 score: [1000.]\n",
            "Episode 8 score: [1000.]\n",
            "Episode 9 score: [1000.]\n",
            "Episode 10 score: [0.]\n"
          ]
        }
      ]
    }
  ],
  "metadata": {
    "colab": {
      "provenance": [],
      "authorship_tag": "ABX9TyOSAAqcvROtMUdLHvgUKGbi",
      "include_colab_link": true
    },
    "kernelspec": {
      "display_name": "Python 3",
      "name": "python3"
    },
    "language_info": {
      "name": "python"
    }
  },
  "nbformat": 4,
  "nbformat_minor": 0
}